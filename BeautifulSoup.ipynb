{
 "cells": [
  {
   "cell_type": "markdown",
   "metadata": {},
   "source": [
    "## Beautiful Soup to scrape Coronavirus worldmeters site"
   ]
  },
  {
   "cell_type": "code",
   "execution_count": 201,
   "metadata": {},
   "outputs": [],
   "source": [
    "import requests\n",
    "from bs4 import BeautifulSoup"
   ]
  },
  {
   "cell_type": "code",
   "execution_count": 202,
   "metadata": {},
   "outputs": [],
   "source": [
    "r = requests.get('https://www.worldometers.info/coronavirus/')\n",
    "# print(r.ok)"
   ]
  },
  {
   "cell_type": "code",
   "execution_count": 203,
   "metadata": {},
   "outputs": [],
   "source": [
    "soup = BeautifulSoup(r.text, 'html.parser')\n",
    "# print(soup.prettify())"
   ]
  },
  {
   "cell_type": "code",
   "execution_count": 204,
   "metadata": {},
   "outputs": [],
   "source": [
    "countries_today = soup.find('table', {'id':'main_table_countries_today'})\n",
    "# print(countries_today)"
   ]
  },
  {
   "cell_type": "code",
   "execution_count": 205,
   "metadata": {},
   "outputs": [],
   "source": [
    "## Table Header\n",
    "tbl_header = [th.text.replace('\\n', '').replace('/1M pop', 'Per1MPop').replace('\\xa0', '').replace(',', '_') \\\n",
    "              for th in countries_today.find_all('th') if th.text!='']\n",
    "\n",
    "# print(tbl_header)"
   ]
  },
  {
   "cell_type": "code",
   "execution_count": 206,
   "metadata": {},
   "outputs": [],
   "source": [
    "## Continents Wise Data\n",
    "continent_list = []\n",
    "for tr in countries_today.find_all('tr', {'class':'total_row_world row_continent'}):\n",
    "    \n",
    "    if tr['data-continent'] != '':\n",
    "        lst_td = [td.text.translate(str.maketrans({'+': '', ',': '', '\\n':''})) for td in tr.find_all('td')]\n",
    "        continent_dict = {tr['data-continent']:lst_td[:-1]}\n",
    "        continent_list.append(continent_dict)\n",
    "        \n",
    "# print(continent_list)    "
   ]
  },
  {
   "cell_type": "code",
   "execution_count": 207,
   "metadata": {},
   "outputs": [],
   "source": [
    "## all_countries_lst\n",
    "\n",
    "all_countries_lst = []\n",
    "for x in countries_today.find('tbody').find_all('tr', {'style': ['', 'background-color:#EAF7D5']}):\n",
    "    lst_td = [td.text.translate(str.maketrans({'+': '', ',': '', '\\n':''})) for td in x.find_all('td')]\n",
    "    all_countries_lst.append(lst_td)\n",
    "\n",
    "## Removing All World Wise Count     \n",
    "#all_countries_lst = all_countries_lst[1:]    "
   ]
  },
  {
   "cell_type": "code",
   "execution_count": 208,
   "metadata": {},
   "outputs": [],
   "source": [
    "import pandas as pd\n",
    "\n",
    "df = pd.DataFrame(data=all_countries_lst, columns=tbl_header)\n",
    "\n",
    "# df.head()"
   ]
  },
  {
   "cell_type": "code",
   "execution_count": 209,
   "metadata": {},
   "outputs": [],
   "source": [
    "# df"
   ]
  },
  {
   "cell_type": "code",
   "execution_count": 210,
   "metadata": {},
   "outputs": [],
   "source": [
    "## Replace '', ' ', 'N/A' for converting to numeric series columns\n",
    "df[df.columns[1:-1]] = df[df.columns[1:-1]].replace('', 0).replace(' ', 0).replace('N/A', 0)\n",
    "\n",
    "## Replace '' from Continent series\n",
    "df['Continent'].replace('', 'Other', inplace=True)"
   ]
  },
  {
   "cell_type": "code",
   "execution_count": 211,
   "metadata": {},
   "outputs": [],
   "source": [
    "## Convert to numeric series\n",
    "df[df.columns[1:-1]] = df[df.columns[1:-1]].apply(pd.to_numeric)"
   ]
  },
  {
   "cell_type": "code",
   "execution_count": 212,
   "metadata": {},
   "outputs": [],
   "source": [
    "## Sort df on basis of Total Cases\n",
    "## ignore_index re-arranges index as per new ordering of rows\n",
    "df.sort_values(by='TotalCases', ascending=False, inplace=True, ignore_index=True)"
   ]
  },
  {
   "cell_type": "code",
   "execution_count": 232,
   "metadata": {
    "scrolled": true
   },
   "outputs": [
    {
     "data": {
      "image/png": "[encoded data removed]",
      "text/plain": [
       "<Figure size 720x360 with 1 Axes>"
      ]
     },
     "metadata": {
      "needs_background": "light"
     },
     "output_type": "display_data"
    }
   ],
   "source": [
    "import matplotlib.pyplot as plt\n",
    "\n",
    "## Get Continent Wise sum and show plot\n",
    "df_continent_wise_total_counts = df.pivot_table(index='Continent', values='TotalCases', aggfunc='sum')\\\n",
    ".sort_values(by='TotalCases', ascending=False)\\\n",
    "\n",
    "ax = df_continent_wise_total_counts.plot(kind='barh', title='Continent Wise Total Cases Count', figsize=(10,5), legend=False)\n",
    "ax.set_xlabel('Total Cases')\n",
    "\n",
    "plt.gca().invert_yaxis()\n",
    "\n"
   ]
  }
 ],
 "metadata": {
  "kernelspec": {
   "display_name": "Python 3",
   "language": "python",
   "name": "python3"
  },
  "language_info": {
   "codemirror_mode": {
    "name": "ipython",
    "version": 3
   },
   "file_extension": ".py",
   "mimetype": "text/x-python",
   "name": "python",
   "nbconvert_exporter": "python",
   "pygments_lexer": "ipython3",
   "version": "3.8.0"
  }
 },
 "nbformat": 4,
 "nbformat_minor": 4
}
